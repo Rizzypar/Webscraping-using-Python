{
 "cells": [
  {
   "cell_type": "code",
   "execution_count": 24,
   "id": "99cbe2df",
   "metadata": {},
   "outputs": [
    {
     "name": "stdout",
     "output_type": "stream",
     "text": [
      "[{'Job': '\\n\\nData Analyst Data Analyst Data Analyst Data Analyst Data Analyst ', 'description': ':\\n\\r\\n      \\r\\n          business analysis  ,  data analyst  ,  security  ,  data governance\\r\\n        \\r\\n       \\n\\n'}, {'Job': '\\n\\nData Analyst ', 'description': ':\\n\\nData Analyst  ,  Power BI\\r\\n        \\r\\n       \\n\\n'}, {'Job': '\\n\\nData Analysts ', 'description': ':\\n\\r\\n      \\r\\n          reports  ,  Data Analysts  ,  MySQL\\r\\n        \\r\\n       \\n\\n'}, {'Job': '\\n\\nData Analyst ', 'description': ':\\n\\r\\n      \\r\\n          interpersonal skills  ,  Data Analyst  ,  communication\\r\\n        \\r\\n       \\n\\n'}, {'Job': '\\n\\nData Analyst ', 'description': ':\\n\\r\\n      \\r\\n          MRP system  ,  SAP  ,  Analyze  ,  Data Analyst\\n \\n\\n'}, {'Job': '\\n\\nData Analyst ', 'description': ':\\n\\ndata analysis  ,  data analytics  ,  data analyst  ,  sql\\r\\n        \\r\\n       \\n\\n'}, {'Job': '\\n\\nData Analyst ', 'description': ':\\n\\r\\n      \\r\\n          macros  ,  visualization  ,  bi  ,  data analyst  ,  vba\\r\\n        \\r\\n       \\n\\n'}, {'Job': '\\n\\nData Analyst ', 'description': ':\\n\\ndata analytics  ,  business requirements  ,  bi  ,  dashboards  ,  data analyst  ,  sql  ,  tableau\\r\\n        \\r\\n       \\n\\n'}, {'Job': '\\n\\nData Analyst ', 'description': ':\\n\\r\\n      \\r\\n          oracle  ,  sas  ,  bi  ,  dashboards  ,  data analyst  ,  alteryx  ,  sql  ,  tableau\\r\\n        \\r\\n       \\n\\n'}, {'Job': '\\n\\nData Analyst ', 'description': ':\\n\\ndata analysis  ,  dashboards  ,  data analyst  ,  sql  ,  tableau  ,  infrastructure  ,  data visualization\\r\\n        \\r\\n       \\n\\n'}, {'Job': '\\n\\nData Analyst ', 'description': ':\\n\\r\\n      \\r\\n          bi  ,  mobile  ,  data analyst  ,  sql  ,  tableau  ,  data science  ,  data visualization\\r\\n        \\r\\n       \\n\\n'}, {'Job': '\\n\\nData Analyst ', 'description': ':\\n\\r\\n      \\r\\n          sas  ,  information management  ,  spss  ,  data analyst  ,  sql  ,  tableau  ,  business objects  ,  xml\\r\\n        \\r\\n       \\n\\n'}, {'Job': '\\n\\nData Analyst ', 'description': ':\\n\\r\\n      \\r\\n          visualization  ,  bi  ,  dashboards  ,  data analysis  ,  spotfire  ,  mining  ,  data analyst  ,  tableau  ,  consultant  ,  data cleaning  ,  sql database\\r\\n        \\r\\n       \\n\\n'}, {'Job': '\\n\\nData Analyst ', 'description': ':\\n\\r\\n      \\r\\n          advanced analytics  ,  data analysis  ,  data mining  ,  mobile  ,  dashboards  ,  data analyst  ,  sql  ,  analytics reporting  ,  tableau\\r\\n        \\r\\n       \\n\\n'}, {'Job': '\\n\\nData Analyst ', 'description': ':\\n\\r\\n      \\r\\n          bi  ,  sql  ,  crm  ,  san  ,  data analysis  ,  customer success  ,  information management  ,  data analyst  ,  tableau\\r\\n        \\r\\n       \\n\\n'}, {'Job': '\\n\\nData Analyst ', 'description': ':\\n\\r\\n      \\r\\n          advanced analytics  ,  data analysis  ,  data mining  ,  mobile  ,  dashboards  ,  data analyst  ,  sql  ,  analytics reporting  ,  tableau\\r\\n        \\r\\n       \\n\\n'}, {'Job': '\\n\\nData Analyst ', 'description': ':\\n\\r\\n      \\r\\n          visualization  ,  dashboards  ,  sql  ,  data science  ,  data analytics  ,  predictive analytics  ,  ms access  ,  data analyst\\n \\n\\n'}, {'Job': '\\n\\nData Analyst ', 'description': ':\\n\\r\\n      \\r\\n          visualization  ,  dashboards  ,  sql  ,  data science  ,  data analytics  ,  predictive analytics  ,  ms access  ,  data analyst\\n \\n\\n'}, {'Job': '\\n\\nData Analyst ', 'description': ':\\n\\r\\n      \\r\\n          visualization  ,  bi  ,  data extraction  ,  data science  ,  advanced analytics  ,  data analysis  ,  case analysis  ,  oracle  ,  sas  ,  data analyst  ,  tableau  ,  consultant  ,  data governance  ,  analyst  ,  statistical analysis\\r\\n        \\r\\n       \\n\\n'}, {'Job': '\\n\\nData Analyst ', 'description': ':\\n\\r\\n      \\r\\n          visualization  ,  business requirements  ,  dashboards  ,  data analytics  ,  alteryx  ,  predictive modeling  ,  bi  ,  sql  ,  security  ,  data visualization  ,  san  ,  dts  ,  data analyst  ,  tableau\\r\\n        \\r\\n       \\n\\n'}, {'Job': '\\n\\nData Analyst ', 'description': ':\\n\\ndata mining  ,  sql  ,  xml  ,  sas  ,  information management  ,  javascript  ,  business objects\\r\\n        \\r\\n       \\n\\n'}, {'Job': '\\n\\nData Analyst ', 'description': ':\\n\\r\\n      \\r\\n          python  ,  sql  ,  data extraction  ,  MatLab\\r\\n        \\r\\n       \\n\\n'}, {'Job': '\\n\\nData Analyst ', 'description': ':\\n\\ndata mining  ,  bi  ,  sql  ,  xml  ,  python  ,  javascript\\r\\n        \\r\\n       \\n\\n'}, {'Job': '\\n\\nData Analyst ', 'description': ':\\n\\ndata mining  ,  sql  ,  games  ,  hadoop  ,  san  ,  python  ,  machine learning  ,  messaging\\r\\n        \\r\\n       \\n\\n'}, {'Job': '\\n\\nData Analyst ', 'description': ':\\n\\r\\n      \\r\\n          algorithms  ,  data mining  ,  bi  ,  sql  ,  apache  ,  xml  ,  hadoop  ,  technical skills  ,  python  ,  oracle  ,  sas  ,  javascript  ,  written communication  ,  business objects\\r\\n        \\r\\n       \\n\\n'}]\n"
     ]
    }
   ],
   "source": [
    "import requests\n",
    "from bs4 import BeautifulSoup\n",
    "import pandas as pd\n",
    "\n",
    "req = requests.get(\n",
    "        'https://www.timesjobs.com/candidate/job-search.html?searchType=personalizedSearch&from=submit&txtKeywords=data+analyst&txtLocation');\n",
    "\n",
    "soup = BeautifulSoup(req.text, 'html.parser')\n",
    "job_Title = soup.find(class_=\"new-joblist\").find_all('h2')\n",
    "key_skills = soup.find(class_=\"new-joblist\").find_all('ul', class_='list-job-dtl clearfix')\n",
    "\n",
    "def getData(allTitle,allSkills):\n",
    "    data=[]\n",
    "    for idx,value in enumerate(allTitle):\n",
    "        title=allTitle[idx].getText()\n",
    "        skill=allSkills[idx].getText().split('KeySkills')[1]\n",
    "        d={'Job':title,'description':skill}\n",
    "        data.append(d)\n",
    "    return data\n",
    "\n",
    "\n",
    "data=getData(job_Title,key_skills)\n",
    "print(data)\n",
    "\n",
    "df = pd.DataFrame(data)\n",
    "#Use r for CAPITAL U with \\ Backslash\n",
    "df.to_excel(r'C:\\Users\\lenovo\\New folder\\webscrape.xlsx', engine='xlsxwriter')"
   ]
  },
  {
   "cell_type": "code",
   "execution_count": 19,
   "id": "9b1bc530",
   "metadata": {},
   "outputs": [
    {
     "ename": "NameError",
     "evalue": "name 'pd' is not defined",
     "output_type": "error",
     "traceback": [
      "\u001b[1;31m---------------------------------------------------------------------------\u001b[0m",
      "\u001b[1;31mNameError\u001b[0m                                 Traceback (most recent call last)",
      "\u001b[1;32m~\\AppData\\Local\\Temp\\ipykernel_3880\\1923510999.py\u001b[0m in \u001b[0;36m<module>\u001b[1;34m\u001b[0m\n\u001b[1;32m----> 1\u001b[1;33m \u001b[0mdf\u001b[0m \u001b[1;33m=\u001b[0m \u001b[0mpd\u001b[0m\u001b[1;33m.\u001b[0m\u001b[0mDataFrame\u001b[0m\u001b[1;33m(\u001b[0m\u001b[0mdata\u001b[0m\u001b[1;33m)\u001b[0m\u001b[1;33m\u001b[0m\u001b[1;33m\u001b[0m\u001b[0m\n\u001b[0m",
      "\u001b[1;31mNameError\u001b[0m: name 'pd' is not defined"
     ]
    }
   ],
   "source": []
  },
  {
   "cell_type": "code",
   "execution_count": null,
   "id": "f7a33420",
   "metadata": {
    "collapsed": true
   },
   "outputs": [],
   "source": []
  }
 ],
 "metadata": {
  "kernelspec": {
   "display_name": "Python 3 (ipykernel)",
   "language": "python",
   "name": "python3"
  },
  "language_info": {
   "codemirror_mode": {
    "name": "ipython",
    "version": 3
   },
   "file_extension": ".py",
   "mimetype": "text/x-python",
   "name": "python",
   "nbconvert_exporter": "python",
   "pygments_lexer": "ipython3",
   "version": "3.9.13"
  }
 },
 "nbformat": 4,
 "nbformat_minor": 5
}
